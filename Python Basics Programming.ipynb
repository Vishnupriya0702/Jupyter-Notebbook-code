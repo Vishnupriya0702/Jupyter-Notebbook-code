{
 "cells": [
  {
   "cell_type": "markdown",
   "id": "753e3bee",
   "metadata": {},
   "source": [
    "Program to identify whether a string is a Palindrome or not\n",
    "\n",
    "Mistakes: String Indices must be an integer - solution- always check for a number, not compare the indices\n",
    "          Int object is not iterable - solution - always make the in object to be iterable\n",
    "          \n",
    "        \n"
   ]
  },
  {
   "cell_type": "code",
   "execution_count": 2,
   "id": "624f8760",
   "metadata": {},
   "outputs": [
    {
     "name": "stdout",
     "output_type": "stream",
     "text": [
      "No\n"
     ]
    }
   ],
   "source": [
    "    def func(x):\n",
    "        l=list(x)\n",
    "        length=len(x)\n",
    "        for x in range(0,length,1):\n",
    "            for y in range(-1,-(length+1),-1):\n",
    "                if l[x]==l[y]:\n",
    "                    return 'Yes'\n",
    "                else:\n",
    "                    return 'No'\n",
    "               \n",
    "                      \n",
    "                        ## print('Yes')\n",
    "                    ##else: \n",
    "                       ## print('No')\n",
    "               ## else:\n",
    "                   ## print('The list index value points to the same number,for which palindrome is not performed')\n",
    "\n",
    "    print(func('vishnu'))"
   ]
  },
  {
   "cell_type": "code",
   "execution_count": 145,
   "id": "70f717c9",
   "metadata": {},
   "outputs": [
    {
     "data": {
      "text/plain": [
       "['u', 'n', 'h', 's', 'i', 'v']"
      ]
     },
     "execution_count": 145,
     "metadata": {},
     "output_type": "execute_result"
    }
   ],
   "source": [
    "l=['v','i','s','h','n','u']\n",
    "length=len(l)\n",
    "x=2\n",
    "y=l[::-1]\n",
    "y"
   ]
  },
  {
   "cell_type": "markdown",
   "id": "e3344dc8",
   "metadata": {},
   "source": [
    "# Factorial of a number"
   ]
  },
  {
   "cell_type": "code",
   "execution_count": 5,
   "id": "d3913265",
   "metadata": {},
   "outputs": [
    {
     "name": "stdout",
     "output_type": "stream",
     "text": [
      "40320\n"
     ]
    }
   ],
   "source": [
    "def func(number):\n",
    "        if number==1:\n",
    "            return 1\n",
    "        else:\n",
    "            return number*func(number-1)\n",
    "        \n",
    "print(func(8))"
   ]
  },
  {
   "cell_type": "code",
   "execution_count": null,
   "id": "4c817236",
   "metadata": {},
   "outputs": [],
   "source": [
    "# x=range(1,6)\n",
    "for i in x:\n",
    "    print(i)"
   ]
  },
  {
   "cell_type": "markdown",
   "id": "fa4a3008",
   "metadata": {},
   "source": [
    "# Factorial without recursive function"
   ]
  },
  {
   "cell_type": "code",
   "execution_count": 26,
   "id": "4033a473",
   "metadata": {},
   "outputs": [
    {
     "name": "stdout",
     "output_type": "stream",
     "text": [
      "enter the number:5\n",
      "1\n",
      "2\n",
      "6\n",
      "24\n",
      "120\n"
     ]
    }
   ],
   "source": [
    "#def func(number):\n",
    "number= int(input(\"enter the number:\"))\n",
    "j=1 \n",
    "for i in range(1,number+1):\n",
    "    j=j*i\n",
    "    print(j)\n",
    "            \n",
    "            \n",
    "    \n",
    "        ##if number==1:\n",
    "            ##return 1\n",
    "        ##else:\n",
    "            ##return number*func(number-1)\n",
    "        \n",
    "#func(8)"
   ]
  },
  {
   "cell_type": "markdown",
   "id": "aa96af5f",
   "metadata": {},
   "source": [
    "# Reverse the string in Python by converting to list"
   ]
  },
  {
   "cell_type": "code",
   "execution_count": 37,
   "id": "bcce8ff4",
   "metadata": {},
   "outputs": [
    {
     "data": {
      "text/plain": [
       "['python', 'is', 'a', 'great', 'language']"
      ]
     },
     "execution_count": 37,
     "metadata": {},
     "output_type": "execute_result"
    }
   ],
   "source": [
    "x= \"python is a great language\"\n",
    "y=list(x.split())\n",
    "y"
   ]
  },
  {
   "cell_type": "code",
   "execution_count": 40,
   "id": "83cd852d",
   "metadata": {},
   "outputs": [
    {
     "data": {
      "text/plain": [
       "5"
      ]
     },
     "execution_count": 40,
     "metadata": {},
     "output_type": "execute_result"
    }
   ],
   "source": [
    "length=len(y)\n",
    "length"
   ]
  },
  {
   "cell_type": "code",
   "execution_count": 92,
   "id": "30311c7f",
   "metadata": {},
   "outputs": [
    {
     "name": "stdout",
     "output_type": "stream",
     "text": [
      "  language great a is python\n"
     ]
    }
   ],
   "source": [
    "def func(x):\n",
    "    y=list(x.split())\n",
    "    length=len(y)\n",
    "    s=\" \"\n",
    "    l=[]\n",
    "    for i in range(-1,-(length+1),-1):\n",
    "        l.append(y[i])\n",
    "        #print(l)\n",
    "    \n",
    "    #return l\n",
    "    for i in l:\n",
    "        s=s+' '+i\n",
    "        \n",
    "    return s\n",
    "\n",
    "print(func(\"python is a great language\"))\n"
   ]
  },
  {
   "cell_type": "markdown",
   "id": "c0c60ad0",
   "metadata": {},
   "source": [
    "# Reverse the string in Python without converting to list"
   ]
  },
  {
   "cell_type": "code",
   "execution_count": 76,
   "id": "dfd20994",
   "metadata": {},
   "outputs": [
    {
     "name": "stdout",
     "output_type": "stream",
     "text": [
      "  e g a u g n a l   t a e r g   a   s i   n o h t y p\n"
     ]
    }
   ],
   "source": [
    "def func(x):\n",
    "    length=len(x)\n",
    "    s=\" \"\n",
    "    for i in range(-1,-(length+1),-1):\n",
    "        s=s+' '+x[i]\n",
    "        #l.append(y[i])\n",
    "        #print(l)\n",
    "        \n",
    "    return s\n",
    "    \n",
    "    #return l\n",
    "    #for i in l:\n",
    "        \n",
    "        \n",
    "    \n",
    "\n",
    "print(func(\"python is a great language\"))"
   ]
  },
  {
   "cell_type": "code",
   "execution_count": 80,
   "id": "fe264acc",
   "metadata": {},
   "outputs": [
    {
     "data": {
      "text/plain": [
       "['python', 'is', 'a', 'great', 'language']"
      ]
     },
     "execution_count": 80,
     "metadata": {},
     "output_type": "execute_result"
    }
   ],
   "source": [
    "x=\"python is a great language\"\n",
    "x=x.split()\n",
    "x"
   ]
  },
  {
   "cell_type": "code",
   "execution_count": 87,
   "id": "f4adb6d3",
   "metadata": {},
   "outputs": [
    {
     "name": "stdout",
     "output_type": "stream",
     "text": [
      "['language', 'great', 'a', 'is', 'python']\n"
     ]
    }
   ],
   "source": [
    "y=['python', 'is', 'a', 'great', 'language']\n",
    "y.reverse()\n",
    "print(y)"
   ]
  },
  {
   "cell_type": "markdown",
   "id": "e557d80c",
   "metadata": {},
   "source": [
    "# Fibonacci Series"
   ]
  },
  {
   "cell_type": "code",
   "execution_count": 93,
   "id": "439994f6",
   "metadata": {},
   "outputs": [
    {
     "name": "stdout",
     "output_type": "stream",
     "text": [
      "3\n"
     ]
    }
   ],
   "source": [
    "def Fibonacci(n):\n",
    "    if n<= 0:\n",
    "        print(\"Incorrect input\")\n",
    "    # First Fibonacci number is 0\n",
    "    elif n == 1:\n",
    "        return 0\n",
    "    # Second Fibonacci number is 1\n",
    "    elif n == 2:\n",
    "        return 1\n",
    "    else:\n",
    "        return Fibonacci(n-1)+Fibonacci(n-2)\n",
    "    \n",
    "\n",
    "print(Fibonacci(5))"
   ]
  },
  {
   "cell_type": "markdown",
   "id": "6781d1b8",
   "metadata": {},
   "source": [
    "# Ways to remove the ith character in a string"
   ]
  },
  {
   "cell_type": "code",
   "execution_count": 129,
   "id": "3b77acf1",
   "metadata": {},
   "outputs": [
    {
     "name": "stdout",
     "output_type": "stream",
     "text": [
      "geekofgeeks\n"
     ]
    }
   ],
   "source": [
    "def func(str,n):\n",
    "    length =len(str)\n",
    "    s =\"\"\n",
    "    for i in range(0,length,1):\n",
    "        if (i!=n):\n",
    "            s=s+str[i]\n",
    "        else:\n",
    "            i=i+1\n",
    "    \n",
    "            \n",
    "    return s\n",
    "\n",
    "print(func('geeksofgeeks',4))"
   ]
  },
  {
   "cell_type": "markdown",
   "id": "4c283e70",
   "metadata": {},
   "source": [
    "# To uppercase the secondhalf of values. Hint( find median, which helps to exactly point down the middle value)"
   ]
  },
  {
   "cell_type": "code",
   "execution_count": 144,
   "id": "65ec9f60",
   "metadata": {},
   "outputs": [
    {
     "name": "stdout",
     "output_type": "stream",
     "text": [
      "visHNU\n"
     ]
    }
   ],
   "source": [
    "def func(str):\n",
    "    length =len(str)\n",
    "    m=(length+1)/2\n",
    "    s=\"\"\n",
    "    for i in range(0,length,1):\n",
    "        if(i<(m-1)):\n",
    "            s=s+str[i]\n",
    "        else:\n",
    "            s=s+str[i].upper()\n",
    "            \n",
    "    return s\n",
    "            \n",
    "print(func(\"vishnu\"))\n",
    "            \n",
    "            "
   ]
  },
  {
   "cell_type": "markdown",
   "id": "1e08eb71",
   "metadata": {},
   "source": [
    "# Code to return true if a string has atleast one number as string & the other as number"
   ]
  },
  {
   "cell_type": "code",
   "execution_count": 156,
   "id": "3c65f6f6",
   "metadata": {},
   "outputs": [
    {
     "name": "stdout",
     "output_type": "stream",
     "text": [
      "False\n"
     ]
    }
   ],
   "source": [
    "def func(str):\n",
    "    flag_l = False\n",
    "    flag_n = False\n",
    "    for i in str:\n",
    "        if i.isalpha():\n",
    "            flag_l = True\n",
    "        if i.isdigit():\n",
    "            flag_n = True\n",
    "      \n",
    "\n",
    "\n",
    "    return flag_l and flag_n\n",
    "  \n",
    "  \n",
    "# driver code\n",
    "print(func('vishnu'))"
   ]
  },
  {
   "cell_type": "code",
   "execution_count": 157,
   "id": "067e2573",
   "metadata": {},
   "outputs": [
    {
     "ename": "NameError",
     "evalue": "name 'order' is not defined",
     "output_type": "error",
     "traceback": [
      "\u001b[1;31m---------------------------------------------------------------------------\u001b[0m",
      "\u001b[1;31mNameError\u001b[0m                                 Traceback (most recent call last)",
      "\u001b[1;32m<ipython-input-157-371577239564>\u001b[0m in \u001b[0;36m<module>\u001b[1;34m\u001b[0m\n\u001b[0;32m      1\u001b[0m \u001b[0my\u001b[0m\u001b[1;33m=\u001b[0m\u001b[1;36m145\u001b[0m\u001b[1;33m\u001b[0m\u001b[1;33m\u001b[0m\u001b[0m\n\u001b[1;32m----> 2\u001b[1;33m \u001b[0mx\u001b[0m\u001b[1;33m=\u001b[0m\u001b[0morder\u001b[0m\u001b[1;33m(\u001b[0m\u001b[0my\u001b[0m\u001b[1;33m)\u001b[0m\u001b[1;33m\u001b[0m\u001b[1;33m\u001b[0m\u001b[0m\n\u001b[0m",
      "\u001b[1;31mNameError\u001b[0m: name 'order' is not defined"
     ]
    }
   ],
   "source": [
    "y=145\n",
    "x=order(y)"
   ]
  },
  {
   "cell_type": "markdown",
   "id": "18002b41",
   "metadata": {},
   "source": [
    "# Identify whether a number is prime or not"
   ]
  },
  {
   "cell_type": "code",
   "execution_count": 192,
   "id": "542e787e",
   "metadata": {},
   "outputs": [
    {
     "name": "stdout",
     "output_type": "stream",
     "text": [
      "2 the number is a prime\n",
      "3 the number is a prime\n",
      "4 the number is not a prime\n",
      "5 the number is a prime\n",
      "6 the number is not a prime\n",
      "7 the number is a prime\n",
      "8 the number is not a prime\n",
      "9 the number is a prime\n",
      "10 the number is not a prime\n"
     ]
    }
   ],
   "source": [
    "def func(x,y):\n",
    "    z=\"\"\n",
    "    for i in range(x,y+1,1):\n",
    "        if(i==2):\n",
    "            z= str(i)+\" \" + \"the number is a prime\"\n",
    "            \n",
    "            print(z)\n",
    "        elif(i%2)==0:\n",
    "            z= str(i)+\" \"+ \"the number is not a prime\"\n",
    "            \n",
    "            print(z)\n",
    "            \n",
    "        else:\n",
    "            z= str(i)+\" \" + \"the number is a prime\"\n",
    "            \n",
    "            print(z)\n",
    "            \n",
    "    \n",
    "    \n",
    "func(2,10)"
   ]
  },
  {
   "cell_type": "code",
   "execution_count": 204,
   "id": "00c5553c",
   "metadata": {},
   "outputs": [
    {
     "name": "stdout",
     "output_type": "stream",
     "text": [
      "3\n",
      "5\n",
      "7\n",
      "9\n"
     ]
    }
   ],
   "source": [
    "def func(x,y):\n",
    "    \n",
    "    for i in range(x,y+1):\n",
    "            for j in (2,i):\n",
    "                if(i%j==0):\n",
    "                    break\n",
    "                else:\n",
    "                    print(i)\n",
    "        \n",
    "        \n",
    "func(2,10)"
   ]
  },
  {
   "cell_type": "markdown",
   "id": "42add9ea",
   "metadata": {},
   "source": [
    "# program to check if the given number is a fibonacci number or not"
   ]
  },
  {
   "cell_type": "code",
   "execution_count": 218,
   "id": "61265663",
   "metadata": {},
   "outputs": [
    {
     "name": "stdout",
     "output_type": "stream",
     "text": [
      "84 the number is a fibonacci number\n",
      "76 the number is not a fibonacci number\n",
      "None\n"
     ]
    }
   ],
   "source": [
    "def func(x):\n",
    "    y=isperfectsquare((5*n*n)+4) or isperfectsquare((5*n*n)-4)\n",
    "    return y\n",
    "    \n",
    "    \n",
    "print(func(3))"
   ]
  },
  {
   "cell_type": "code",
   "execution_count": null,
   "id": "a1aaef47",
   "metadata": {},
   "outputs": [],
   "source": [
    "import math\n",
    "def isperfectsquare(z):\n",
    "    s=math.sqrt(z)\n",
    "    if(s*s == z):\n",
    "        print(str(z) + \" \"+ \"the number is a fibonacci number\")\n",
    "    else:\n",
    "        print(str(z) + \" \"+ \"the number is not a fibonacci number\")\n",
    "\n",
    "\n",
    "def func(x):\n",
    "    y=isperfectsquare((5*n*n)+4) or isperfectsquare((5*n*n)-4)\n",
    "    return y\n",
    "    \n",
    "    \n",
    "print(func(3))"
   ]
  }
 ],
 "metadata": {
  "kernelspec": {
   "display_name": "Python 3",
   "language": "python",
   "name": "python3"
  },
  "language_info": {
   "codemirror_mode": {
    "name": "ipython",
    "version": 3
   },
   "file_extension": ".py",
   "mimetype": "text/x-python",
   "name": "python",
   "nbconvert_exporter": "python",
   "pygments_lexer": "ipython3",
   "version": "3.9.5"
  }
 },
 "nbformat": 4,
 "nbformat_minor": 5
}
