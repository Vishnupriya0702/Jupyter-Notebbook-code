{
 "cells": [
  {
   "cell_type": "markdown",
   "id": "be05a2b6",
   "metadata": {},
   "source": [
    "Q1: Show that the above equation can be written in a form of matrix such that\n",
    "Ω(S, N) is S\n",
    "th element of a 10 × 1 matrix (ΩN ):\n",
    "Ω(N) = A × Ω(N − 1)\n",
    "Once Ω(N) is calculated, Ω(S, N) can be found by reading S\n",
    "th element of Ω(N) matrix,\n",
    "Ω(S, N) = Ω(N)S. For instance, 0\n",
    "th element of Ω(2) is Ω(0, 2) = 1."
   ]
  },
  {
   "cell_type": "markdown",
   "id": "c1e1fac7",
   "metadata": {},
   "source": [
    "b) Show that Ω(N) can be found recursively using the following equation:\n",
    "Ω(N) = A × ... × A × A × Ω(1) = AN−1 × Ω(1)"
   ]
  },
  {
   "cell_type": "code",
   "execution_count": 1,
   "id": "33ad563f",
   "metadata": {},
   "outputs": [],
   "source": [
    "import numpy as np\n",
    "import matplotlib as plt"
   ]
  },
  {
   "cell_type": "code",
   "execution_count": 2,
   "id": "19e7ca2f",
   "metadata": {},
   "outputs": [],
   "source": [
    "x=np.array([[0,0,0,0,0,0,0,0,1,0],\n",
    "[0,0,1,0,1,0,0,0,0,0],\n",
    "[0,1,0,1,0,1,0,0,0,0],\n",
    "[0,0,1,0,0,0,1,0,0,0],\n",
    "[0,1,0,0,0,1,0,1,0,0],\n",
    "[0,0,1,0,1,0,1,0,1,0],\n",
    "[0,0,0,1,0,1,0,0,0,1],\n",
    "[0,0,0,0,1,0,0,0,1,0],\n",
    "[1,0,0,0,0,1,0,1,0,1],\n",
    "[0,0,0,0,0,0,1,0,1,0]])"
   ]
  },
  {
   "cell_type": "code",
   "execution_count": 4,
   "id": "991eccb7",
   "metadata": {},
   "outputs": [],
   "source": [
    "x=np.matrix([[0,0,0,0,0,0,0,0,1,0],\n",
    "[0,0,1,0,1,0,0,0,0,0],\n",
    "[0,1,0,1,0,1,0,0,0,0],\n",
    "[0,0,1,0,0,0,1,0,0,0],\n",
    "[0,1,0,0,0,1,0,1,0,0],\n",
    "[0,0,1,0,1,0,1,0,1,0],\n",
    "[0,0,0,1,0,1,0,0,0,1],\n",
    "[0,0,0,0,1,0,0,0,1,0],\n",
    "[1,0,0,0,0,1,0,1,0,1],\n",
    "[0,0,0,0,0,0,1,0,1,0]])"
   ]
  },
  {
   "cell_type": "code",
   "execution_count": 5,
   "id": "27c6d28d",
   "metadata": {},
   "outputs": [
    {
     "data": {
      "text/plain": [
       "matrix([[0, 0, 0, 0, 0, 0, 0, 0, 1, 0],\n",
       "        [0, 0, 1, 0, 1, 0, 0, 0, 0, 0],\n",
       "        [0, 1, 0, 1, 0, 1, 0, 0, 0, 0],\n",
       "        [0, 0, 1, 0, 0, 0, 1, 0, 0, 0],\n",
       "        [0, 1, 0, 0, 0, 1, 0, 1, 0, 0],\n",
       "        [0, 0, 1, 0, 1, 0, 1, 0, 1, 0],\n",
       "        [0, 0, 0, 1, 0, 1, 0, 0, 0, 1],\n",
       "        [0, 0, 0, 0, 1, 0, 0, 0, 1, 0],\n",
       "        [1, 0, 0, 0, 0, 1, 0, 1, 0, 1],\n",
       "        [0, 0, 0, 0, 0, 0, 1, 0, 1, 0]])"
      ]
     },
     "execution_count": 5,
     "metadata": {},
     "output_type": "execute_result"
    }
   ],
   "source": [
    "x"
   ]
  },
  {
   "cell_type": "markdown",
   "id": "cc63040c",
   "metadata": {},
   "source": [
    "# c) Create a 10 × 10 NumPy matrix which contains all the elements we have found\n",
    "for A. Find the transpose of the matrix using numpy.transpose. Are the matrix and\n",
    "its transpose equal? Did you expect this result?\n",
    "Answer : yes, we could see the expected result"
   ]
  },
  {
   "cell_type": "code",
   "execution_count": 6,
   "id": "8ef44cbd",
   "metadata": {},
   "outputs": [],
   "source": [
    "#Transpose \n",
    "transpose =x.transpose"
   ]
  },
  {
   "cell_type": "code",
   "execution_count": 7,
   "id": "bf436771",
   "metadata": {},
   "outputs": [
    {
     "data": {
      "text/plain": [
       "<function matrix.transpose>"
      ]
     },
     "execution_count": 7,
     "metadata": {},
     "output_type": "execute_result"
    }
   ],
   "source": [
    "transpose"
   ]
  },
  {
   "cell_type": "code",
   "execution_count": 12,
   "id": "1278cc9d",
   "metadata": {},
   "outputs": [],
   "source": [
    "transpose_result=np.transpose([[0, 0, 0, 0, 0, 0, 0, 0, 1, 0],\n",
    "        [0, 0, 1, 0, 1, 0, 0, 0, 0, 0],\n",
    "        [0, 1, 0, 1, 0, 1, 0, 0, 0, 0],\n",
    "        [0, 0, 1, 0, 0, 0, 1, 0, 0, 0],\n",
    "        [0, 1, 0, 0, 0, 1, 0, 1, 0, 0],\n",
    "        [0, 0, 1, 0, 1, 0, 1, 0, 1, 0],\n",
    "        [0, 0, 0, 1, 0, 1, 0, 0, 0, 1],\n",
    "        [0, 0, 0, 0, 1, 0, 0, 0, 1, 0],\n",
    "        [1, 0, 0, 0, 0, 1, 0, 1, 0, 1],\n",
    "        [0, 0, 0, 0, 0, 0, 1, 0, 1, 0]])"
   ]
  },
  {
   "cell_type": "code",
   "execution_count": 13,
   "id": "0ea36e79",
   "metadata": {},
   "outputs": [
    {
     "data": {
      "text/plain": [
       "array([[0, 0, 0, 0, 0, 0, 0, 0, 1, 0],\n",
       "       [0, 0, 1, 0, 1, 0, 0, 0, 0, 0],\n",
       "       [0, 1, 0, 1, 0, 1, 0, 0, 0, 0],\n",
       "       [0, 0, 1, 0, 0, 0, 1, 0, 0, 0],\n",
       "       [0, 1, 0, 0, 0, 1, 0, 1, 0, 0],\n",
       "       [0, 0, 1, 0, 1, 0, 1, 0, 1, 0],\n",
       "       [0, 0, 0, 1, 0, 1, 0, 0, 0, 1],\n",
       "       [0, 0, 0, 0, 1, 0, 0, 0, 1, 0],\n",
       "       [1, 0, 0, 0, 0, 1, 0, 1, 0, 1],\n",
       "       [0, 0, 0, 0, 0, 0, 1, 0, 1, 0]])"
      ]
     },
     "execution_count": 13,
     "metadata": {},
     "output_type": "execute_result"
    }
   ],
   "source": [
    "transpose_result"
   ]
  },
  {
   "cell_type": "markdown",
   "id": "18e382ab",
   "metadata": {},
   "source": [
    "# d) Define a function with the name of ”Dialer Problem” which takes two parameters, S and N and returns Ω(S, N). Within the function, use a ”for loop” to multiply\n",
    "Ω(1) to A and then A and so on. Test your function for a few examples. For instance, running Dialer Problem(5,10) should return 18713.\n"
   ]
  },
  {
   "cell_type": "code",
   "execution_count": 79,
   "id": "23632c88",
   "metadata": {},
   "outputs": [
    {
     "name": "stdout",
     "output_type": "stream",
     "text": [
      "[[ 1599663030]\n",
      " [-1311241703]\n",
      " [    2332566]\n",
      " [-1311241703]\n",
      " [ 1804873896]\n",
      " [ 2135507069]\n",
      " [ 1804873896]\n",
      " [ -848218524]\n",
      " [  888127803]\n",
      " [ -848218524]]\n"
     ]
    }
   ],
   "source": [
    "def Dialer_Problem(S,N):\n",
    "    A=([[0,0,0,0,0,0,0,0,1,0],\n",
    "[0,0,1,0,1,0,0,0,0,0],\n",
    "[0,1,0,1,0,1,0,0,0,0],\n",
    "[0,0,1,0,0,0,1,0,0,0],\n",
    "[0,1,0,0,0,1,0,1,0,0],\n",
    "[0,0,1,0,1,0,1,0,1,0],\n",
    "[0,0,0,1,0,1,0,0,0,1],\n",
    "[0,0,0,0,1,0,0,0,1,0],\n",
    "[1,0,0,0,0,1,0,1,0,1],\n",
    "[0,0,0,0,0,0,1,0,1,0]])\n",
    "    for i in range(0,(N-1)):\n",
    "        A=np.dot(A,A)\n",
    "        if(i==(N-2)):\n",
    "            x=np.dot(A,([[1],[1],[1],[1],[1],[1],[1],[1],[1],[1]]))\n",
    "        else:\n",
    "            x=None\n",
    "    \n",
    "    return x\n",
    "\n",
    "       \n",
    "print(Dialer_Problem(5,10))"
   ]
  },
  {
   "cell_type": "markdown",
   "id": "9a9cd501",
   "metadata": {},
   "source": [
    "# Rewrite the same code without using NumPy package. You will need to create\n",
    "a nested list which includes all the elements in A and also define a function which\n",
    "performs matrix multiplication.\n"
   ]
  },
  {
   "cell_type": "code",
   "execution_count": 83,
   "id": "e13c6cd8",
   "metadata": {},
   "outputs": [],
   "source": [
    "def MatrixMulti(A,B):\n",
    "    A=([[0,0,0,0,0,0,0,0,1,0],\n",
    "[0,0,1,0,1,0,0,0,0,0],\n",
    "[0,1,0,1,0,1,0,0,0,0],\n",
    "[0,0,1,0,0,0,1,0,0,0],\n",
    "[0,1,0,0,0,1,0,1,0,0],\n",
    "[0,0,1,0,1,0,1,0,1,0],\n",
    "[0,0,0,1,0,1,0,0,0,1],\n",
    "[0,0,0,0,1,0,0,0,1,0],\n",
    "[1,0,0,0,0,1,0,1,0,1],\n",
    "[0,0,0,0,0,0,1,0,1,0]])\n",
    "    B=([[1],[1],[1],[1],[1],[1],[1],[1],[1],[1]])\n",
    "    \n",
    "\n",
    "    for i in range(0,(N-1)):\n",
    "        R=((sum(x*y) for x,y in zip(A_row,B_col) for B_col in zip(*B) ) for A_row in A)\n",
    "        \n",
    "    return R\n",
    "    \n",
    "\n",
    "    "
   ]
  },
  {
   "cell_type": "markdown",
   "id": "08fc1849",
   "metadata": {},
   "source": [
    "# f) Using time module of Python, evaluate the algorithmic efficiency of your code\n",
    "in part d. You need to make the similar figure shown above on your computer."
   ]
  },
  {
   "cell_type": "code",
   "execution_count": 88,
   "id": "a62a50c8",
   "metadata": {},
   "outputs": [
    {
     "name": "stdout",
     "output_type": "stream",
     "text": [
      "[[ 1599663030]\n",
      " [-1311241703]\n",
      " [    2332566]\n",
      " [-1311241703]\n",
      " [ 1804873896]\n",
      " [ 2135507069]\n",
      " [ 1804873896]\n",
      " [ -848218524]\n",
      " [  888127803]\n",
      " [ -848218524]]\n"
     ]
    },
    {
     "data": {
      "image/png": "[encoded data removed]",
      "text/plain": [
       "<Figure size 432x288 with 1 Axes>"
      ]
     },
     "metadata": {
      "needs_background": "light"
     },
     "output_type": "display_data"
    }
   ],
   "source": [
    "import datetime\n",
    "import matplotlib.pyplot as plt\n",
    "\n",
    "def Dialer_Problem(S,N):\n",
    "    A=([[0,0,0,0,0,0,0,0,1,0],\n",
    "[0,0,1,0,1,0,0,0,0,0],\n",
    "[0,1,0,1,0,1,0,0,0,0],\n",
    "[0,0,1,0,0,0,1,0,0,0],\n",
    "[0,1,0,0,0,1,0,1,0,0],\n",
    "[0,0,1,0,1,0,1,0,1,0],\n",
    "[0,0,0,1,0,1,0,0,0,1],\n",
    "[0,0,0,0,1,0,0,0,1,0],\n",
    "[1,0,0,0,0,1,0,1,0,1],\n",
    "[0,0,0,0,0,0,1,0,1,0]])\n",
    "    for i in range(0,(N-1)):\n",
    "        A=np.dot(A,A)\n",
    "        if(i==(N-2)):\n",
    "            x=np.dot(A,([[1],[1],[1],[1],[1],[1],[1],[1],[1],[1]]))\n",
    "        else:\n",
    "            x=None\n",
    "    \n",
    "    return x\n",
    "\n",
    "       \n",
    "x=[print(Dialer_Problem(5,10))]\n",
    "y=[datetime.datetime.now() + datetime.timedelta(hours=i) for i in range(len(x))]\n",
    "\n",
    "plt.plot(x,y)\n",
    "plt.gcf().autofmt_xdate()\n",
    "plt.show()\n",
    "\n",
    "\n"
   ]
  },
  {
   "cell_type": "markdown",
   "id": "331c9f1d",
   "metadata": {},
   "source": [
    "# g) How long will running your code for N = 107\n",
    "take? You do not run your code\n",
    "for this big number of digits! Use extrapolation to estimate the running time. Do\n",
    "you think we need to improve the performance of our code to execute it for large\n",
    "numbers?\n"
   ]
  },
  {
   "cell_type": "code",
   "execution_count": 94,
   "id": "18dabab2",
   "metadata": {},
   "outputs": [
    {
     "data": {
      "image/png": "[encoded data removed]",
      "text/plain": [
       "<Figure size 432x288 with 1 Axes>"
      ]
     },
     "metadata": {
      "needs_background": "light"
     },
     "output_type": "display_data"
    }
   ],
   "source": [
    "\n",
    "import numpy as np\n",
    "import matplotlib.pyplot as plt\n",
    "\n",
    "def exponential_fit(x, a, b, c):\n",
    "    return a*np.exp(-b*x) + c\n",
    "\n",
    "if __name__ == \"__main__\":\n",
    "    x = np.array([0, 1, 2, 3, 4, 5])\n",
    "    y = np.array([30, 50, 80, 160, 300, 580])\n",
    "        \n",
    "    \n",
    "    next_x = 6\n",
    "    next_y =y\n",
    "    \n",
    "    plt.plot(y)\n",
    "    plt.plot(np.append(y, next_y), 'ro')\n",
    "    plt.show()"
   ]
  },
  {
   "cell_type": "markdown",
   "id": "14337340",
   "metadata": {},
   "source": [
    "# h) Write your own function which takes a decimal number and return the number\n",
    "in the binary system. Do not use bin() syntax of python.\n"
   ]
  },
  {
   "cell_type": "code",
   "execution_count": 108,
   "id": "34b337be",
   "metadata": {},
   "outputs": [
    {
     "name": "stdout",
     "output_type": "stream",
     "text": [
      "0\n",
      "1\n",
      "0\n",
      "0\n",
      "0\n",
      "1\n",
      "None\n"
     ]
    }
   ],
   "source": [
    "def DecimalToBinary(num):\n",
    "        if num >= 1:\n",
    "            DecimalToBinary(num // 2)\n",
    "        print(num % 2)\n",
    "            \n",
    "\n",
    "print(DecimalToBinary(17))\n",
    "\n",
    "        "
   ]
  },
  {
   "cell_type": "markdown",
   "id": "11340138",
   "metadata": {},
   "source": [
    "# i) Implement the mentioned algorithm to rebuild your function in part d. This\n",
    "algorithm will allow us to speed up the execution time of the program. You will\n",
    "need to use your binary convert function in part h.\n"
   ]
  },
  {
   "cell_type": "code",
   "execution_count": 110,
   "id": "67ab0031",
   "metadata": {},
   "outputs": [
    {
     "ename": "TypeError",
     "evalue": "'>=' not supported between instances of 'NoneType' and 'int'",
     "output_type": "error",
     "traceback": [
      "\u001b[1;31m---------------------------------------------------------------------------\u001b[0m",
      "\u001b[1;31mTypeError\u001b[0m                                 Traceback (most recent call last)",
      "\u001b[1;32m<ipython-input-110-434fb17b0cf7>\u001b[0m in \u001b[0;36m<module>\u001b[1;34m\u001b[0m\n\u001b[0;32m     23\u001b[0m \u001b[1;33m\u001b[0m\u001b[0m\n\u001b[0;32m     24\u001b[0m \u001b[1;33m\u001b[0m\u001b[0m\n\u001b[1;32m---> 25\u001b[1;33m \u001b[0mprint\u001b[0m\u001b[1;33m(\u001b[0m\u001b[0mDialer_Problem\u001b[0m\u001b[1;33m(\u001b[0m\u001b[1;36m5\u001b[0m\u001b[1;33m,\u001b[0m\u001b[1;36m10\u001b[0m\u001b[1;33m)\u001b[0m\u001b[1;33m)\u001b[0m\u001b[1;33m\u001b[0m\u001b[1;33m\u001b[0m\u001b[0m\n\u001b[0m",
      "\u001b[1;32m<ipython-input-110-434fb17b0cf7>\u001b[0m in \u001b[0;36mDialer_Problem\u001b[1;34m(S, N)\u001b[0m\n\u001b[0;32m     16\u001b[0m         \u001b[1;32melse\u001b[0m\u001b[1;33m:\u001b[0m\u001b[1;33m\u001b[0m\u001b[1;33m\u001b[0m\u001b[0m\n\u001b[0;32m     17\u001b[0m             \u001b[0mx\u001b[0m\u001b[1;33m=\u001b[0m\u001b[1;32mNone\u001b[0m\u001b[1;33m\u001b[0m\u001b[1;33m\u001b[0m\u001b[0m\n\u001b[1;32m---> 18\u001b[1;33m         \u001b[1;32mif\u001b[0m \u001b[0mx\u001b[0m \u001b[1;33m>=\u001b[0m \u001b[1;36m1\u001b[0m\u001b[1;33m:\u001b[0m\u001b[1;33m\u001b[0m\u001b[1;33m\u001b[0m\u001b[0m\n\u001b[0m\u001b[0;32m     19\u001b[0m             \u001b[0mDecimalToBinary\u001b[0m\u001b[1;33m(\u001b[0m\u001b[0mx\u001b[0m \u001b[1;33m//\u001b[0m \u001b[1;36m2\u001b[0m\u001b[1;33m)\u001b[0m\u001b[1;33m\u001b[0m\u001b[1;33m\u001b[0m\u001b[0m\n\u001b[0;32m     20\u001b[0m         \u001b[0mprint\u001b[0m\u001b[1;33m(\u001b[0m\u001b[0mx\u001b[0m \u001b[1;33m%\u001b[0m \u001b[1;36m2\u001b[0m\u001b[1;33m)\u001b[0m\u001b[1;33m\u001b[0m\u001b[1;33m\u001b[0m\u001b[0m\n",
      "\u001b[1;31mTypeError\u001b[0m: '>=' not supported between instances of 'NoneType' and 'int'"
     ]
    }
   ],
   "source": [
    "def Dialer_Problem(S,N):\n",
    "    A=([[0,0,0,0,0,0,0,0,1,0],\n",
    "[0,0,1,0,1,0,0,0,0,0],\n",
    "[0,1,0,1,0,1,0,0,0,0],\n",
    "[0,0,1,0,0,0,1,0,0,0],\n",
    "[0,1,0,0,0,1,0,1,0,0],\n",
    "[0,0,1,0,1,0,1,0,1,0],\n",
    "[0,0,0,1,0,1,0,0,0,1],\n",
    "[0,0,0,0,1,0,0,0,1,0],\n",
    "[1,0,0,0,0,1,0,1,0,1],\n",
    "[0,0,0,0,0,0,1,0,1,0]])\n",
    "    for i in range(0,(N-1)):\n",
    "        A=np.dot(A,A)\n",
    "        if(i==(N-2)):\n",
    "            x=np.dot(A,([[1],[1],[1],[1],[1],[1],[1],[1],[1],[1]]))\n",
    "        else:\n",
    "            x=None\n",
    "        if x >= 1:\n",
    "            DecimalToBinary(x // 2)\n",
    "        print(x % 2)\n",
    "    \n",
    " \n",
    "\n",
    "       \n",
    "print(Dialer_Problem(5,10))"
   ]
  },
  {
   "cell_type": "markdown",
   "id": "555311bd",
   "metadata": {},
   "source": [
    "# Problem 2: A simple dimensionality reduction\n",
    "In this problem, we will use a principal component analysis(PCA) to map a 2-D data set to 1-D\n",
    "space. Consider a set of 10, 2-D data points given in a 10 × 2 matrix below:\n",
    "\n",
    "a) Create a 10 × 2 NumPy array which contains all elements in D. Find the covariance matrix of D using numpy.cov."
   ]
  },
  {
   "cell_type": "code",
   "execution_count": 112,
   "id": "5d6f4351",
   "metadata": {},
   "outputs": [],
   "source": [
    "n=np.array([[1.72,0.10],\n",
    "[-0.58,0.31],\n",
    "[1.99,1.54],\n",
    "[1.60,4.97],\n",
    "[2.72,2.43],\n",
    "[2.83,3.59],\n",
    "[5.95,7.71],\n",
    "[4.75,7.63],\n",
    "[5.57,5.60],\n",
    "[9.82,7.91]])"
   ]
  },
  {
   "cell_type": "code",
   "execution_count": 114,
   "id": "c6cf6fa8",
   "metadata": {},
   "outputs": [],
   "source": [
    "cov =np.cov(n)"
   ]
  },
  {
   "cell_type": "code",
   "execution_count": 115,
   "id": "7cc52939",
   "metadata": {},
   "outputs": [
    {
     "data": {
      "text/plain": [
       "array([[ 1.31220e+00, -7.20900e-01,  3.64500e-01, -2.72970e+00,\n",
       "         2.34900e-01, -6.15600e-01, -1.42560e+00, -2.33280e+00,\n",
       "        -2.43000e-02,  1.54710e+00],\n",
       "       [-7.20900e-01,  3.96050e-01, -2.00250e-01,  1.49965e+00,\n",
       "        -1.29050e-01,  3.38200e-01,  7.83200e-01,  1.28160e+00,\n",
       "         1.33500e-02, -8.49950e-01],\n",
       "       [ 3.64500e-01, -2.00250e-01,  1.01250e-01, -7.58250e-01,\n",
       "         6.52500e-02, -1.71000e-01, -3.96000e-01, -6.48000e-01,\n",
       "        -6.75000e-03,  4.29750e-01],\n",
       "       [-2.72970e+00,  1.49965e+00, -7.58250e-01,  5.67845e+00,\n",
       "        -4.88650e-01,  1.28060e+00,  2.96560e+00,  4.85280e+00,\n",
       "         5.05500e-02, -3.21835e+00],\n",
       "       [ 2.34900e-01, -1.29050e-01,  6.52500e-02, -4.88650e-01,\n",
       "         4.20500e-02, -1.10200e-01, -2.55200e-01, -4.17600e-01,\n",
       "        -4.35000e-03,  2.76950e-01],\n",
       "       [-6.15600e-01,  3.38200e-01, -1.71000e-01,  1.28060e+00,\n",
       "        -1.10200e-01,  2.88800e-01,  6.68800e-01,  1.09440e+00,\n",
       "         1.14000e-02, -7.25800e-01],\n",
       "       [-1.42560e+00,  7.83200e-01, -3.96000e-01,  2.96560e+00,\n",
       "        -2.55200e-01,  6.68800e-01,  1.54880e+00,  2.53440e+00,\n",
       "         2.64000e-02, -1.68080e+00],\n",
       "       [-2.33280e+00,  1.28160e+00, -6.48000e-01,  4.85280e+00,\n",
       "        -4.17600e-01,  1.09440e+00,  2.53440e+00,  4.14720e+00,\n",
       "         4.32000e-02, -2.75040e+00],\n",
       "       [-2.43000e-02,  1.33500e-02, -6.75000e-03,  5.05500e-02,\n",
       "        -4.35000e-03,  1.14000e-02,  2.64000e-02,  4.32000e-02,\n",
       "         4.50000e-04, -2.86500e-02],\n",
       "       [ 1.54710e+00, -8.49950e-01,  4.29750e-01, -3.21835e+00,\n",
       "         2.76950e-01, -7.25800e-01, -1.68080e+00, -2.75040e+00,\n",
       "        -2.86500e-02,  1.82405e+00]])"
      ]
     },
     "execution_count": 115,
     "metadata": {},
     "output_type": "execute_result"
    }
   ],
   "source": [
    "cov"
   ]
  },
  {
   "cell_type": "markdown",
   "id": "1d004136",
   "metadata": {},
   "source": [
    "# b) Find eigenvalues and corresponding eigenvectors of the covariance matrix using\n",
    "NumPy linear algebra function. Which eigenvector shows the direction with the\n",
    "most variance? Name this vector v."
   ]
  },
  {
   "cell_type": "code",
   "execution_count": 116,
   "id": "ff7c3784",
   "metadata": {},
   "outputs": [],
   "source": [
    "from numpy import linalg as LA"
   ]
  },
  {
   "cell_type": "code",
   "execution_count": 117,
   "id": "323ffcae",
   "metadata": {},
   "outputs": [],
   "source": [
    "v= LA.eig(cov)"
   ]
  },
  {
   "cell_type": "code",
   "execution_count": 118,
   "id": "b4a850bf",
   "metadata": {},
   "outputs": [
    {
     "data": {
      "text/plain": [
       "(array([ 0.00000000e+00+0.00000000e+00j,  1.53393000e+01+0.00000000e+00j,\n",
       "         3.54672718e-16+0.00000000e+00j, -5.89078252e-16+0.00000000e+00j,\n",
       "         1.70455707e-16+0.00000000e+00j, -9.59141793e-17+0.00000000e+00j,\n",
       "        -6.63096877e-18+3.93799511e-17j, -6.63096877e-18-3.93799511e-17j,\n",
       "        -6.44913346e-18+0.00000000e+00j,  3.35562572e-19+0.00000000e+00j]),\n",
       " array([[-0.95627142+0.j        ,  0.29248072+0.j        ,\n",
       "          0.39847016+0.j        , -0.18202426+0.j        ,\n",
       "         -0.21918055+0.j        , -0.39526557+0.j        ,\n",
       "         -0.27999928+0.42518907j, -0.27999928-0.42518907j,\n",
       "         -0.91030177+0.j        ,  0.954825  +0.j        ],\n",
       "        [-0.04914601+0.j        , -0.16068385+0.j        ,\n",
       "         -0.02957729+0.j        , -0.30079959+0.j        ,\n",
       "          0.07226583+0.j        , -0.09964039+0.j        ,\n",
       "          0.03653214+0.04996892j,  0.03653214-0.04996892j,\n",
       "         -0.06682288+0.j        ,  0.04794282+0.j        ],\n",
       "        [ 0.02484911+0.j        ,  0.08124464+0.j        ,\n",
       "          0.16435659+0.j        ,  0.15914426+0.j        ,\n",
       "          0.39038377+0.j        ,  0.09890139+0.j        ,\n",
       "          0.64856429+0.j        ,  0.64856429-0.j        ,\n",
       "         -0.15740331+0.j        , -0.03270623+0.j        ],\n",
       "        [-0.18609221+0.j        , -0.60843212+0.j        ,\n",
       "         -0.26287541+0.j        ,  0.62569916+0.j        ,\n",
       "         -0.47933631+0.j        , -0.36509209+0.j        ,\n",
       "          0.11838526-0.10985957j,  0.11838526+0.10985957j,\n",
       "         -0.24261619+0.j        ,  0.18252964+0.j        ],\n",
       "        [ 0.01601387+0.j        ,  0.05235766+0.j        ,\n",
       "          0.0484035 +0.j        ,  0.06254159+0.j        ,\n",
       "          0.00460661+0.j        , -0.22105737+0.j        ,\n",
       "          0.14495061+0.19043813j,  0.14495061-0.19043813j,\n",
       "         -0.2002373 +0.j        , -0.03096528+0.j        ],\n",
       "        [-0.04196738+0.j        , -0.13721318+0.j        ,\n",
       "         -0.13762703+0.j        ,  0.2172766 +0.j        ,\n",
       "         -0.06400093+0.j        , -0.68006434+0.j        ,\n",
       "          0.27735841+0.22866595j,  0.27735841-0.22866595j,\n",
       "         -0.11193271+0.j        ,  0.03883024+0.j        ],\n",
       "        [-0.09718763+0.j        , -0.31775683+0.j        ,\n",
       "          0.5299947 +0.j        , -0.50562322+0.j        ,\n",
       "         -0.33159388+0.j        ,  0.19597703+0.j        ,\n",
       "         -0.07261651+0.03853022j, -0.07261651-0.03853022j,\n",
       "         -0.08838835+0.j        ,  0.0967711 +0.j        ],\n",
       "        [-0.1590343 +0.j        , -0.51996573+0.j        ,\n",
       "          0.5405634 +0.j        , -0.2736674 +0.j        ,\n",
       "          0.66997697+0.j        ,  0.04124833+0.j        ,\n",
       "         -0.15755096+0.24038761j, -0.15755096-0.24038761j,\n",
       "         -0.10626535+0.j        ,  0.16080042+0.j        ],\n",
       "        [-0.00165661+0.j        , -0.00541631+0.j        ,\n",
       "          0.00196823+0.j        , -0.00755317+0.j        ,\n",
       "         -0.00734769+0.j        , -0.01085095+0.j        ,\n",
       "         -0.00367816+0.02158532j, -0.00367816-0.02158532j,\n",
       "         -0.05301315+0.j        ,  0.05371769+0.j        ],\n",
       "        [ 0.10547066+0.j        ,  0.34483838+0.j        ,\n",
       "          0.38709043+0.j        ,  0.2789877 +0.j        ,\n",
       "         -0.03974637+0.j        , -0.37307261+0.j        ,\n",
       "          0.09440387-0.07079821j,  0.09440387+0.07079821j,\n",
       "          0.09331587+0.j        , -0.10512037+0.j        ]]))"
      ]
     },
     "execution_count": 118,
     "metadata": {},
     "output_type": "execute_result"
    }
   ],
   "source": [
    "v"
   ]
  },
  {
   "cell_type": "markdown",
   "id": "a58d626b",
   "metadata": {},
   "source": [
    "# c) Use the dot product of matrix D and v to map all the data points to a direction\n",
    "which corresponds to the most variance. Now, you have a 1-D data set instead of\n",
    "2-D and you preserved most of the information regarding the relative position of\n",
    "data points in 2-D space. In other words, the data points which are close in 2-D\n",
    "space, are still close pairs in 1-D space. The figure below shows my own results for\n",
    "eigenvectors (red and blue) of the covariance matrix along with the data points.\n",
    "Mapping the data points to the red eigenvector (the one with larger eigenvalue) is\n",
    "shown in the right figure. Plotting your results is not required in this question but\n",
    "highly recommended."
   ]
  },
  {
   "cell_type": "code",
   "execution_count": 125,
   "id": "68990fe8",
   "metadata": {},
   "outputs": [
    {
     "ename": "ValueError",
     "evalue": "x has 2 columns but y has 10 columns",
     "output_type": "error",
     "traceback": [
      "\u001b[1;31m---------------------------------------------------------------------------\u001b[0m",
      "\u001b[1;31mValueError\u001b[0m                                Traceback (most recent call last)",
      "\u001b[1;32m<ipython-input-125-a6a3e7d54bee>\u001b[0m in \u001b[0;36m<module>\u001b[1;34m\u001b[0m\n\u001b[0;32m      5\u001b[0m \u001b[1;33m\u001b[0m\u001b[0m\n\u001b[0;32m      6\u001b[0m \u001b[0my\u001b[0m\u001b[1;33m=\u001b[0m\u001b[0mnp\u001b[0m\u001b[1;33m.\u001b[0m\u001b[0mmatrix\u001b[0m\u001b[1;33m(\u001b[0m\u001b[0meigenvector\u001b[0m\u001b[1;33m)\u001b[0m\u001b[1;33m\u001b[0m\u001b[1;33m\u001b[0m\u001b[0m\n\u001b[1;32m----> 7\u001b[1;33m \u001b[0mplt\u001b[0m\u001b[1;33m.\u001b[0m\u001b[0mplot\u001b[0m\u001b[1;33m(\u001b[0m\u001b[0mx\u001b[0m\u001b[1;33m,\u001b[0m\u001b[0my\u001b[0m\u001b[1;33m)\u001b[0m\u001b[1;33m\u001b[0m\u001b[1;33m\u001b[0m\u001b[0m\n\u001b[0m\u001b[0;32m      8\u001b[0m \u001b[0mplt\u001b[0m\u001b[1;33m.\u001b[0m\u001b[0mshow\u001b[0m\u001b[1;33m(\u001b[0m\u001b[1;33m)\u001b[0m\u001b[1;33m\u001b[0m\u001b[1;33m\u001b[0m\u001b[0m\n",
      "\u001b[1;32m~\\anaconda3\\envs\\PHYS247\\lib\\site-packages\\matplotlib\\pyplot.py\u001b[0m in \u001b[0;36mplot\u001b[1;34m(scalex, scaley, data, *args, **kwargs)\u001b[0m\n\u001b[0;32m   3017\u001b[0m \u001b[1;33m@\u001b[0m\u001b[0m_copy_docstring_and_deprecators\u001b[0m\u001b[1;33m(\u001b[0m\u001b[0mAxes\u001b[0m\u001b[1;33m.\u001b[0m\u001b[0mplot\u001b[0m\u001b[1;33m)\u001b[0m\u001b[1;33m\u001b[0m\u001b[1;33m\u001b[0m\u001b[0m\n\u001b[0;32m   3018\u001b[0m \u001b[1;32mdef\u001b[0m \u001b[0mplot\u001b[0m\u001b[1;33m(\u001b[0m\u001b[1;33m*\u001b[0m\u001b[0margs\u001b[0m\u001b[1;33m,\u001b[0m \u001b[0mscalex\u001b[0m\u001b[1;33m=\u001b[0m\u001b[1;32mTrue\u001b[0m\u001b[1;33m,\u001b[0m \u001b[0mscaley\u001b[0m\u001b[1;33m=\u001b[0m\u001b[1;32mTrue\u001b[0m\u001b[1;33m,\u001b[0m \u001b[0mdata\u001b[0m\u001b[1;33m=\u001b[0m\u001b[1;32mNone\u001b[0m\u001b[1;33m,\u001b[0m \u001b[1;33m**\u001b[0m\u001b[0mkwargs\u001b[0m\u001b[1;33m)\u001b[0m\u001b[1;33m:\u001b[0m\u001b[1;33m\u001b[0m\u001b[1;33m\u001b[0m\u001b[0m\n\u001b[1;32m-> 3019\u001b[1;33m     return gca().plot(\n\u001b[0m\u001b[0;32m   3020\u001b[0m         \u001b[1;33m*\u001b[0m\u001b[0margs\u001b[0m\u001b[1;33m,\u001b[0m \u001b[0mscalex\u001b[0m\u001b[1;33m=\u001b[0m\u001b[0mscalex\u001b[0m\u001b[1;33m,\u001b[0m \u001b[0mscaley\u001b[0m\u001b[1;33m=\u001b[0m\u001b[0mscaley\u001b[0m\u001b[1;33m,\u001b[0m\u001b[1;33m\u001b[0m\u001b[1;33m\u001b[0m\u001b[0m\n\u001b[0;32m   3021\u001b[0m         **({\"data\": data} if data is not None else {}), **kwargs)\n",
      "\u001b[1;32m~\\anaconda3\\envs\\PHYS247\\lib\\site-packages\\matplotlib\\axes\\_axes.py\u001b[0m in \u001b[0;36mplot\u001b[1;34m(self, scalex, scaley, data, *args, **kwargs)\u001b[0m\n\u001b[0;32m   1603\u001b[0m         \"\"\"\n\u001b[0;32m   1604\u001b[0m         \u001b[0mkwargs\u001b[0m \u001b[1;33m=\u001b[0m \u001b[0mcbook\u001b[0m\u001b[1;33m.\u001b[0m\u001b[0mnormalize_kwargs\u001b[0m\u001b[1;33m(\u001b[0m\u001b[0mkwargs\u001b[0m\u001b[1;33m,\u001b[0m \u001b[0mmlines\u001b[0m\u001b[1;33m.\u001b[0m\u001b[0mLine2D\u001b[0m\u001b[1;33m)\u001b[0m\u001b[1;33m\u001b[0m\u001b[1;33m\u001b[0m\u001b[0m\n\u001b[1;32m-> 1605\u001b[1;33m         \u001b[0mlines\u001b[0m \u001b[1;33m=\u001b[0m \u001b[1;33m[\u001b[0m\u001b[1;33m*\u001b[0m\u001b[0mself\u001b[0m\u001b[1;33m.\u001b[0m\u001b[0m_get_lines\u001b[0m\u001b[1;33m(\u001b[0m\u001b[1;33m*\u001b[0m\u001b[0margs\u001b[0m\u001b[1;33m,\u001b[0m \u001b[0mdata\u001b[0m\u001b[1;33m=\u001b[0m\u001b[0mdata\u001b[0m\u001b[1;33m,\u001b[0m \u001b[1;33m**\u001b[0m\u001b[0mkwargs\u001b[0m\u001b[1;33m)\u001b[0m\u001b[1;33m]\u001b[0m\u001b[1;33m\u001b[0m\u001b[1;33m\u001b[0m\u001b[0m\n\u001b[0m\u001b[0;32m   1606\u001b[0m         \u001b[1;32mfor\u001b[0m \u001b[0mline\u001b[0m \u001b[1;32min\u001b[0m \u001b[0mlines\u001b[0m\u001b[1;33m:\u001b[0m\u001b[1;33m\u001b[0m\u001b[1;33m\u001b[0m\u001b[0m\n\u001b[0;32m   1607\u001b[0m             \u001b[0mself\u001b[0m\u001b[1;33m.\u001b[0m\u001b[0madd_line\u001b[0m\u001b[1;33m(\u001b[0m\u001b[0mline\u001b[0m\u001b[1;33m)\u001b[0m\u001b[1;33m\u001b[0m\u001b[1;33m\u001b[0m\u001b[0m\n",
      "\u001b[1;32m~\\anaconda3\\envs\\PHYS247\\lib\\site-packages\\matplotlib\\axes\\_base.py\u001b[0m in \u001b[0;36m__call__\u001b[1;34m(self, data, *args, **kwargs)\u001b[0m\n\u001b[0;32m    313\u001b[0m                 \u001b[0mthis\u001b[0m \u001b[1;33m+=\u001b[0m \u001b[0margs\u001b[0m\u001b[1;33m[\u001b[0m\u001b[1;36m0\u001b[0m\u001b[1;33m]\u001b[0m\u001b[1;33m,\u001b[0m\u001b[1;33m\u001b[0m\u001b[1;33m\u001b[0m\u001b[0m\n\u001b[0;32m    314\u001b[0m                 \u001b[0margs\u001b[0m \u001b[1;33m=\u001b[0m \u001b[0margs\u001b[0m\u001b[1;33m[\u001b[0m\u001b[1;36m1\u001b[0m\u001b[1;33m:\u001b[0m\u001b[1;33m]\u001b[0m\u001b[1;33m\u001b[0m\u001b[1;33m\u001b[0m\u001b[0m\n\u001b[1;32m--> 315\u001b[1;33m             \u001b[1;32myield\u001b[0m \u001b[1;32mfrom\u001b[0m \u001b[0mself\u001b[0m\u001b[1;33m.\u001b[0m\u001b[0m_plot_args\u001b[0m\u001b[1;33m(\u001b[0m\u001b[0mthis\u001b[0m\u001b[1;33m,\u001b[0m \u001b[0mkwargs\u001b[0m\u001b[1;33m)\u001b[0m\u001b[1;33m\u001b[0m\u001b[1;33m\u001b[0m\u001b[0m\n\u001b[0m\u001b[0;32m    316\u001b[0m \u001b[1;33m\u001b[0m\u001b[0m\n\u001b[0;32m    317\u001b[0m     \u001b[1;32mdef\u001b[0m \u001b[0mget_next_color\u001b[0m\u001b[1;33m(\u001b[0m\u001b[0mself\u001b[0m\u001b[1;33m)\u001b[0m\u001b[1;33m:\u001b[0m\u001b[1;33m\u001b[0m\u001b[1;33m\u001b[0m\u001b[0m\n",
      "\u001b[1;32m~\\anaconda3\\envs\\PHYS247\\lib\\site-packages\\matplotlib\\axes\\_base.py\u001b[0m in \u001b[0;36m_plot_args\u001b[1;34m(self, tup, kwargs, return_kwargs)\u001b[0m\n\u001b[0;32m    517\u001b[0m         \u001b[0mncx\u001b[0m\u001b[1;33m,\u001b[0m \u001b[0mncy\u001b[0m \u001b[1;33m=\u001b[0m \u001b[0mx\u001b[0m\u001b[1;33m.\u001b[0m\u001b[0mshape\u001b[0m\u001b[1;33m[\u001b[0m\u001b[1;36m1\u001b[0m\u001b[1;33m]\u001b[0m\u001b[1;33m,\u001b[0m \u001b[0my\u001b[0m\u001b[1;33m.\u001b[0m\u001b[0mshape\u001b[0m\u001b[1;33m[\u001b[0m\u001b[1;36m1\u001b[0m\u001b[1;33m]\u001b[0m\u001b[1;33m\u001b[0m\u001b[1;33m\u001b[0m\u001b[0m\n\u001b[0;32m    518\u001b[0m         \u001b[1;32mif\u001b[0m \u001b[0mncx\u001b[0m \u001b[1;33m>\u001b[0m \u001b[1;36m1\u001b[0m \u001b[1;32mand\u001b[0m \u001b[0mncy\u001b[0m \u001b[1;33m>\u001b[0m \u001b[1;36m1\u001b[0m \u001b[1;32mand\u001b[0m \u001b[0mncx\u001b[0m \u001b[1;33m!=\u001b[0m \u001b[0mncy\u001b[0m\u001b[1;33m:\u001b[0m\u001b[1;33m\u001b[0m\u001b[1;33m\u001b[0m\u001b[0m\n\u001b[1;32m--> 519\u001b[1;33m             \u001b[1;32mraise\u001b[0m \u001b[0mValueError\u001b[0m\u001b[1;33m(\u001b[0m\u001b[1;34mf\"x has {ncx} columns but y has {ncy} columns\"\u001b[0m\u001b[1;33m)\u001b[0m\u001b[1;33m\u001b[0m\u001b[1;33m\u001b[0m\u001b[0m\n\u001b[0m\u001b[0;32m    520\u001b[0m \u001b[1;33m\u001b[0m\u001b[0m\n\u001b[0;32m    521\u001b[0m         \u001b[0mlabel\u001b[0m \u001b[1;33m=\u001b[0m \u001b[0mkwargs\u001b[0m\u001b[1;33m.\u001b[0m\u001b[0mget\u001b[0m\u001b[1;33m(\u001b[0m\u001b[1;34m'label'\u001b[0m\u001b[1;33m)\u001b[0m\u001b[1;33m\u001b[0m\u001b[1;33m\u001b[0m\u001b[0m\n",
      "\u001b[1;31mValueError\u001b[0m: x has 2 columns but y has 10 columns"
     ]
    },
    {
     "data": {
      "image/png": "[encoded data removed]",
      "text/plain": [
       "<Figure size 432x288 with 1 Axes>"
      ]
     },
     "metadata": {
      "needs_background": "light"
     },
     "output_type": "display_data"
    }
   ],
   "source": [
    "import matplotlib.pyplot as plt\n",
    "\n",
    "x=np.matrix(n)\n",
    "eigenvector = v[0]\n",
    "\n",
    "y=np.matrix(eigenvector)\n",
    "plt.plot(x,y)\n",
    "plt.show()\n"
   ]
  },
  {
   "cell_type": "code",
   "execution_count": 129,
   "id": "456f1202",
   "metadata": {},
   "outputs": [
    {
     "ename": "ValueError",
     "evalue": "cannot reshape array of size 100 into shape (10,2)",
     "output_type": "error",
     "traceback": [
      "\u001b[1;31m---------------------------------------------------------------------------\u001b[0m",
      "\u001b[1;31mValueError\u001b[0m                                Traceback (most recent call last)",
      "\u001b[1;32m<ipython-input-129-b5fc800309eb>\u001b[0m in \u001b[0;36m<module>\u001b[1;34m\u001b[0m\n\u001b[1;32m----> 1\u001b[1;33m \u001b[0mz\u001b[0m\u001b[1;33m=\u001b[0m \u001b[0meigenvector\u001b[0m\u001b[1;33m.\u001b[0m\u001b[0mreshape\u001b[0m\u001b[1;33m(\u001b[0m\u001b[1;36m10\u001b[0m\u001b[1;33m,\u001b[0m\u001b[1;36m2\u001b[0m\u001b[1;33m)\u001b[0m\u001b[1;33m\u001b[0m\u001b[1;33m\u001b[0m\u001b[0m\n\u001b[0m",
      "\u001b[1;31mValueError\u001b[0m: cannot reshape array of size 100 into shape (10,2)"
     ]
    }
   ],
   "source": [
    "z= eigenvector.reshape(10,2)"
   ]
  },
  {
   "cell_type": "code",
   "execution_count": null,
   "id": "ecb1d0bd",
   "metadata": {},
   "outputs": [],
   "source": []
  }
 ],
 "metadata": {
  "kernelspec": {
   "display_name": "PHYS247",
   "language": "python",
   "name": "phys247"
  },
  "language_info": {
   "codemirror_mode": {
    "name": "ipython",
    "version": 3
   },
   "file_extension": ".py",
   "mimetype": "text/x-python",
   "name": "python",
   "nbconvert_exporter": "python",
   "pygments_lexer": "ipython3",
   "version": "3.9.5"
  }
 },
 "nbformat": 4,
 "nbformat_minor": 5
}
